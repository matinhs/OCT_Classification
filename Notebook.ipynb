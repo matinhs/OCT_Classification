{
  "nbformat": 4,
  "nbformat_minor": 0,
  "metadata": {
    "colab": {
      "name": "2.ipynb",
      "provenance": [],
      "collapsed_sections": []
    },
    "kernelspec": {
      "name": "python3",
      "display_name": "Python 3"
    },
    "language_info": {
      "name": "python"
    },
    "accelerator": "GPU"
  },
  "cells": [
    {
      "cell_type": "markdown",
      "source": [
        "# Loading and Preprocessing the data"
      ],
      "metadata": {
        "id": "TPD4Za65Ldia"
      }
    },
    {
      "cell_type": "code",
      "source": [
        "import tensorflow as tf\n",
        "import keras\n",
        "from keras.models import Sequential\n",
        "from keras.utils import np_utils\n",
        "from keras.layers import Dense, Activation, Flatten, Dropout, BatchNormalization\n",
        "from keras.layers import Conv2D, MaxPooling2D, GlobalAveragePooling2D\n",
        "from keras import regularizers, optimizers\n",
        "from keras.applications import densenet\n",
        "from tensorflow.keras import layers\n",
        "from tensorflow.keras.optimizers import Adam, SGD\n",
        "from keras.metrics import categorical_crossentropy\n",
        "from keras.models import Model"
      ],
      "metadata": {
        "id": "oEN7YgdO2Z4n"
      },
      "execution_count": 49,
      "outputs": []
    },
    {
      "cell_type": "code",
      "execution_count": null,
      "metadata": {
        "id": "kuwo7GykxYkz"
      },
      "outputs": [],
      "source": [
        "! pip install kaggle\n",
        "! mkdir ~/.kaggle\n",
        "! cp kaggle.json ~/.kaggle/\n",
        "! chmod 600 ~/.kaggle/kaggle.json\n",
        "! kaggle datasets download paultimothymooney/kermany2018\n"
      ]
    },
    {
      "cell_type": "code",
      "source": [
        "!unzip -qq 'kermany2018.zip'"
      ],
      "metadata": {
        "id": "J84ghXHb1MNr"
      },
      "execution_count": 4,
      "outputs": []
    },
    {
      "cell_type": "code",
      "source": [
        "\n",
        "train = tf.keras.utils.image_dataset_from_directory(\n",
        "    'OCT2017 /train',\n",
        "    labels='inferred' ,\n",
        "    label_mode = 'categorical',\n",
        "    color_mode=\"rgb\",\n",
        "    batch_size=64,\n",
        "    image_size=(224, 224),\n",
        "    shuffle=True,\n",
        "    seed= 10,\n",
        "    validation_split=0.1,\n",
        "    subset='training',\n",
        "    interpolation=\"bilinear\",\n",
        "    follow_links=False,\n",
        "    crop_to_aspect_ratio=False,\n",
        ")\n",
        "\n",
        "val = tf.keras.utils.image_dataset_from_directory(\n",
        "    'OCT2017 /train',\n",
        "    labels='inferred' ,\n",
        "    label_mode = 'categorical',\n",
        "    color_mode=\"rgb\",\n",
        "    batch_size=64,\n",
        "    image_size=(224, 224),\n",
        "    shuffle=True,\n",
        "    seed=10,\n",
        "    validation_split=0.1,\n",
        "    subset='validation',\n",
        "    interpolation=\"bilinear\",\n",
        "    follow_links=False,\n",
        "    crop_to_aspect_ratio=False,\n",
        ")\n",
        "\n",
        "test = tf.keras.utils.image_dataset_from_directory(\n",
        "    'OCT2017 /test',\n",
        "    labels='inferred' ,\n",
        "    label_mode = 'categorical',\n",
        "    color_mode=\"rgb\",\n",
        "    batch_size=1,\n",
        "    image_size=(224, 224),\n",
        "    shuffle=True,\n",
        "    seed=None,\n",
        "    validation_split=None,\n",
        "    subset=None,\n",
        "    interpolation=\"bilinear\",\n",
        "    follow_links=False,\n",
        "    crop_to_aspect_ratio=False,\n",
        ")"
      ],
      "metadata": {
        "colab": {
          "base_uri": "https://localhost:8080/"
        },
        "id": "ZDceYoV11ti_",
        "outputId": "c0627fdd-0d84-4e99-e953-eefe4d12cfd3"
      },
      "execution_count": 71,
      "outputs": [
        {
          "output_type": "stream",
          "name": "stdout",
          "text": [
            "Found 83484 files belonging to 4 classes.\n",
            "Using 75136 files for training.\n",
            "Found 83484 files belonging to 4 classes.\n",
            "Using 8348 files for validation.\n",
            "Found 968 files belonging to 4 classes.\n"
          ]
        }
      ]
    },
    {
      "cell_type": "code",
      "source": [
        "aug = tf.keras.Sequential([\n",
        "  layers.RandomRotation(factor=(-0.2, 0.3)),\n",
        "  layers.Rescaling(1./255),\n",
        "  layers.RandomFlip()\n",
        "])\n",
        "aug_2 = layers.Rescaling(1./255)\n",
        "\n",
        "train = train.map(lambda x, y: (aug(x), y))\n",
        "val = val.map(lambda x, y: (aug_2(x), y)) \n",
        "test = test.map(lambda x, y: (aug_2(x), y))"
      ],
      "metadata": {
        "id": "SoRnZNqj3a9m"
      },
      "execution_count": 72,
      "outputs": []
    },
    {
      "cell_type": "markdown",
      "source": [
        "# Initializing the Network"
      ],
      "metadata": {
        "id": "7e-5aN1aLnVE"
      }
    },
    {
      "cell_type": "code",
      "source": [
        "model = Sequential()\n",
        "model.add(Conv2D(filters=32, kernel_size=3, activation='relu', kernel_regularizer=regularizers.l2(1e-4), padding='same'))\n",
        "model.add(BatchNormalization())\n",
        "model.add(Conv2D(filters=32, kernel_size=3, activation='relu', kernel_regularizer=regularizers.l2(1e-4), padding='same'))\n",
        "model.add(BatchNormalization())\n",
        "model.add(MaxPooling2D(pool_size=(2,2)))\n",
        "model.add(Dropout(0.2))\n",
        "model.add(Conv2D(filters=128, kernel_size=3, activation='relu', kernel_regularizer=regularizers.l2(1e-4), padding='same'))\n",
        "model.add(BatchNormalization())\n",
        "model.add(Conv2D(filters=128, kernel_size=3, activation='relu', kernel_regularizer=regularizers.l2(1e-4), padding='same'))\n",
        "model.add(BatchNormalization())\n",
        "model.add(MaxPooling2D(pool_size=(2,2)))\n",
        "model.add(Dropout(0.2))\n",
        "model.add(Conv2D(filters=256, kernel_size=3, activation='relu', kernel_regularizer=regularizers.l2(1e-4), padding='same'))\n",
        "model.add(BatchNormalization())\n",
        "model.add(Conv2D(filters=256, kernel_size=3, activation='relu', kernel_regularizer=regularizers.l2(1e-4), padding='same'))\n",
        "model.add(BatchNormalization())\n",
        "model.add(MaxPooling2D(pool_size=(2,2)))\n",
        "model.add(Dropout(0.2))\n",
        "model.add(Conv2D(filters=512, kernel_size=3, activation='relu', kernel_regularizer=regularizers.l2(1e-4), padding='same'))\n",
        "model.add(BatchNormalization())\n",
        "model.add(GlobalAveragePooling2D())\n",
        "model.add(Dense(4, activation='softmax'))"
      ],
      "metadata": {
        "id": "x7D162_cBgBf"
      },
      "execution_count": 57,
      "outputs": []
    },
    {
      "cell_type": "code",
      "source": [
        "model.compile(Adam(), loss='categorical_crossentropy', metrics=['accuracy'])\n",
        "\n",
        "from keras.callbacks import ModelCheckpoint , EarlyStopping, ReduceLROnPlateau\n",
        "\n",
        "checkpointer = ModelCheckpoint(filepath='model.hdf5', save_best_only=True)\n",
        "\n",
        "early_stopping = EarlyStopping(monitor='val_loss',\n",
        "                               min_delta=0.0,\n",
        "                               patience=3,\n",
        "                               verbose=1)\n",
        "\n",
        "reduce_learning_rate = ReduceLROnPlateau(monitor='val_loss',\n",
        "                                         factor=0.2,\n",
        "                                         patience=1,\n",
        "                                         verbose=1,\n",
        "                                         min_delta=0.001,\n",
        "                                         cooldown=0,\n",
        "                                         min_lr=0.00001)\n",
        "callbacks = [checkpointer ,\n",
        "             early_stopping,\n",
        "             reduce_learning_rate]"
      ],
      "metadata": {
        "id": "e9BnNcI6DPYO"
      },
      "execution_count": 73,
      "outputs": []
    },
    {
      "cell_type": "markdown",
      "source": [
        "# Training the Network"
      ],
      "metadata": {
        "id": "NaE3N7nJLtWX"
      }
    },
    {
      "cell_type": "code",
      "source": [
        "history = model.fit(train, validation_data=val, epochs=10, batch_size = 64, verbose=1, callbacks=[callbacks])"
      ],
      "metadata": {
        "colab": {
          "base_uri": "https://localhost:8080/"
        },
        "id": "__GbRAu0Ee8f",
        "outputId": "8776d55a-e0d4-4224-b4ff-e7a456c06af9"
      },
      "execution_count": 75,
      "outputs": [
        {
          "output_type": "stream",
          "name": "stdout",
          "text": [
            "Epoch 1/10\n",
            "1174/1174 [==============================] - 734s 624ms/step - loss: 0.3211 - accuracy: 0.9010 - val_loss: 0.8755 - val_accuracy: 0.7367 - lr: 0.0010\n",
            "Epoch 2/10\n",
            "1174/1174 [==============================] - 700s 595ms/step - loss: 0.2463 - accuracy: 0.9290 - val_loss: 0.4931 - val_accuracy: 0.8547 - lr: 0.0010\n",
            "Epoch 3/10\n",
            "1174/1174 [==============================] - 700s 595ms/step - loss: 0.2222 - accuracy: 0.9376 - val_loss: 0.3320 - val_accuracy: 0.9021 - lr: 0.0010\n",
            "Epoch 4/10\n",
            "1174/1174 [==============================] - 701s 595ms/step - loss: 0.2113 - accuracy: 0.9421 - val_loss: 0.2087 - val_accuracy: 0.9429 - lr: 0.0010\n",
            "Epoch 5/10\n",
            "1174/1174 [==============================] - ETA: 0s - loss: 0.2003 - accuracy: 0.9466\n",
            "Epoch 5: ReduceLROnPlateau reducing learning rate to 0.00020000000949949026.\n",
            "1174/1174 [==============================] - 738s 627ms/step - loss: 0.2003 - accuracy: 0.9466 - val_loss: 0.2273 - val_accuracy: 0.9425 - lr: 0.0010\n",
            "Epoch 6/10\n",
            "1174/1174 [==============================] - 701s 595ms/step - loss: 0.1694 - accuracy: 0.9562 - val_loss: 0.1643 - val_accuracy: 0.9569 - lr: 2.0000e-04\n",
            "Epoch 7/10\n",
            "1174/1174 [==============================] - ETA: 0s - loss: 0.1590 - accuracy: 0.9592\n",
            "Epoch 7: ReduceLROnPlateau reducing learning rate to 4.0000001899898055e-05.\n",
            "1174/1174 [==============================] - 699s 594ms/step - loss: 0.1590 - accuracy: 0.9592 - val_loss: 0.1697 - val_accuracy: 0.9547 - lr: 2.0000e-04\n",
            "Epoch 8/10\n",
            "1174/1174 [==============================] - ETA: 0s - loss: 0.1473 - accuracy: 0.9621\n",
            "Epoch 8: ReduceLROnPlateau reducing learning rate to 1e-05.\n",
            "1174/1174 [==============================] - 736s 626ms/step - loss: 0.1473 - accuracy: 0.9621 - val_loss: 0.1753 - val_accuracy: 0.9562 - lr: 4.0000e-05\n",
            "Epoch 9/10\n",
            "1174/1174 [==============================] - 699s 595ms/step - loss: 0.1431 - accuracy: 0.9641 - val_loss: 0.1614 - val_accuracy: 0.9605 - lr: 1.0000e-05\n",
            "Epoch 10/10\n",
            "1174/1174 [==============================] - 736s 626ms/step - loss: 0.1419 - accuracy: 0.9642 - val_loss: 0.1589 - val_accuracy: 0.9609 - lr: 1.0000e-05\n"
          ]
        }
      ]
    },
    {
      "cell_type": "markdown",
      "source": [
        "# Performance Evaluation"
      ],
      "metadata": {
        "id": "VLC7JcOVSp0j"
      }
    },
    {
      "cell_type": "code",
      "source": [
        "import matplotlib.pyplot as plt\n",
        "\n",
        "plt.subplot(231)\n",
        "plt.title('Loss')\n",
        "plt.plot(history.history['loss'], label='train')\n",
        "plt.plot(history.history['val_loss'], label='test')\n",
        "plt.legend()\n",
        "\n",
        "plt.subplot(233)\n",
        "plt.title('Accuracy')\n",
        "plt.plot(history.history['accuracy'], label='train')\n",
        "plt.plot(history.history['val_accuracy'], label='test')\n",
        "plt.legend()\n",
        "plt.show()"
      ],
      "metadata": {
        "colab": {
          "base_uri": "https://localhost:8080/",
          "height": 163
        },
        "id": "4NvMdIjlTEwC",
        "outputId": "79932e6b-0aee-4b45-9c89-5d0896e23e9a"
      },
      "execution_count": 76,
      "outputs": [
        {
          "output_type": "display_data",
          "data": {
            "text/plain": [
              "<Figure size 432x288 with 2 Axes>"
            ],
            "image/png": "[encoded data removed]"
          },
          "metadata": {
            "needs_background": "light"
          }
        }
      ]
    },
    {
      "cell_type": "code",
      "source": [
        "x = model.evaluate(test)"
      ],
      "metadata": {
        "colab": {
          "base_uri": "https://localhost:8080/"
        },
        "id": "RRwAS6YGgTUW",
        "outputId": "3bf24eb9-9f89-41a3-e86d-ff96f1f275f6"
      },
      "execution_count": 78,
      "outputs": [
        {
          "output_type": "stream",
          "name": "stdout",
          "text": [
            "968/968 [==============================] - 8s 9ms/step - loss: 0.0625 - accuracy: 0.9897\n"
          ]
        }
      ]
    }
  ]
}